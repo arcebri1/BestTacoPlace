{
 "cells": [
  {
   "cell_type": "code",
   "execution_count": 1,
   "metadata": {},
   "outputs": [],
   "source": [
    "import pandas as pd\n",
    "import json\n",
    "import requests\n",
    "from pandas.io.json import json_normalize\n",
    "from config import client_id_yelp, api_key"
   ]
  },
  {
   "cell_type": "code",
   "execution_count": 2,
   "metadata": {},
   "outputs": [],
   "source": [
    "api_key=api_key\n",
    "headers = {'Authorization': 'Bearer %s' % api_key}"
   ]
  },
  {
   "cell_type": "code",
   "execution_count": 3,
   "metadata": {},
   "outputs": [
    {
     "data": {
      "text/plain": [
       "0    uAClDzKuffu9EilZ61pP0A\n",
       "1    DAZ6F_1zDZp3qa6X1OjuCg\n",
       "2    L2Bhgxgt6CCUZuisKXbJmg\n",
       "3    TMPbnPfCRUv7adgOKwJ3wA\n",
       "4    jjkHyoBlzNMnHJNXwyxsJQ\n",
       "Name: id, dtype: object"
      ]
     },
     "execution_count": 3,
     "metadata": {},
     "output_type": "execute_result"
    }
   ],
   "source": [
    "loc_df = pd.read_csv(\"tacosloc.csv\")\n",
    "id_list = loc_df[\"id\"]\n",
    "id_list.head()"
   ]
  },
  {
   "cell_type": "code",
   "execution_count": null,
   "metadata": {},
   "outputs": [],
   "source": [
    "for tacos_id in id_list\n",
    "url='https://api.yelp.com/v3/businesses/{id}/reviews'\n",
    " \n",
    "# In the dictionary, term can take values like food, cafes or businesses like McDonalds\n",
    "params = {'term':'tacos','location':'San Diego'}"
   ]
  },
  {
   "cell_type": "code",
   "execution_count": null,
   "metadata": {},
   "outputs": [],
   "source": [
    "# Making a get request to the API\n",
    "req=requests.get(url, params=params, headers=headers)\n",
    " \n",
    "# proceed only if the status code is 200\n",
    "print('The status code is {}'.format(req.status_code))"
   ]
  },
  {
   "cell_type": "code",
   "execution_count": null,
   "metadata": {},
   "outputs": [],
   "source": [
    "# printing the text from the response \n",
    "json.loads(req.text)"
   ]
  }
 ],
 "metadata": {
  "kernelspec": {
   "display_name": "Python 3",
   "language": "python",
   "name": "python3"
  },
  "language_info": {
   "codemirror_mode": {
    "name": "ipython",
    "version": 3
   },
   "file_extension": ".py",
   "mimetype": "text/x-python",
   "name": "python",
   "nbconvert_exporter": "python",
   "pygments_lexer": "ipython3",
   "version": "3.6.10"
  }
 },
 "nbformat": 4,
 "nbformat_minor": 4
}
