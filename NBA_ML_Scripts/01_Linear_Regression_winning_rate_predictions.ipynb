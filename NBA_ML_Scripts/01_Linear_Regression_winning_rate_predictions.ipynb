{
 "cells": [
  {
   "cell_type": "code",
   "execution_count": 1,
   "id": "ignored-category",
   "metadata": {},
   "outputs": [],
   "source": [
    "%matplotlib inline\n",
    "import matplotlib.pyplot as plt\n",
    "import numpy as np\n",
    "import pandas as pd\n",
    "import os"
   ]
  },
  {
   "cell_type": "markdown",
   "id": "requested-indication",
   "metadata": {},
   "source": [
    "Dateset resource: \n",
    "\n",
    "2014-2018 team data were collected from the website below.\n",
    "https://www.nba.com/stats/teams/traditional/?DateFrom=02%2F09%2F2021&DateTo=02%2F09%2F2021&PerMode=Totals&sort=PTS&dir=-1"
   ]
  },
  {
   "cell_type": "code",
   "execution_count": 2,
   "id": "contained-innocent",
   "metadata": {},
   "outputs": [
    {
     "data": {
      "text/html": [
       "<div>\n",
       "<style scoped>\n",
       "    .dataframe tbody tr th:only-of-type {\n",
       "        vertical-align: middle;\n",
       "    }\n",
       "\n",
       "    .dataframe tbody tr th {\n",
       "        vertical-align: top;\n",
       "    }\n",
       "\n",
       "    .dataframe thead th {\n",
       "        text-align: right;\n",
       "    }\n",
       "</style>\n",
       "<table border=\"1\" class=\"dataframe\">\n",
       "  <thead>\n",
       "    <tr style=\"text-align: right;\">\n",
       "      <th></th>\n",
       "      <th>Team</th>\n",
       "      <th>Year</th>\n",
       "      <th>GP</th>\n",
       "      <th>W</th>\n",
       "      <th>L</th>\n",
       "      <th>WIN%</th>\n",
       "      <th>MIN</th>\n",
       "      <th>PTS</th>\n",
       "      <th>FGM</th>\n",
       "      <th>FGA</th>\n",
       "      <th>...</th>\n",
       "      <th>DREB</th>\n",
       "      <th>REB</th>\n",
       "      <th>AST</th>\n",
       "      <th>TOV</th>\n",
       "      <th>STL</th>\n",
       "      <th>BLK</th>\n",
       "      <th>BLKA</th>\n",
       "      <th>PF</th>\n",
       "      <th>PFD</th>\n",
       "      <th>plus_minus</th>\n",
       "    </tr>\n",
       "  </thead>\n",
       "  <tbody>\n",
       "    <tr>\n",
       "      <th>0</th>\n",
       "      <td>0</td>\n",
       "      <td>2014</td>\n",
       "      <td>82</td>\n",
       "      <td>38</td>\n",
       "      <td>44</td>\n",
       "      <td>0.463</td>\n",
       "      <td>3966</td>\n",
       "      <td>8282</td>\n",
       "      <td>3061</td>\n",
       "      <td>6688</td>\n",
       "      <td>...</td>\n",
       "      <td>2565</td>\n",
       "      <td>3278</td>\n",
       "      <td>2041</td>\n",
       "      <td>1251</td>\n",
       "      <td>680</td>\n",
       "      <td>326</td>\n",
       "      <td>354</td>\n",
       "      <td>1577</td>\n",
       "      <td>1643</td>\n",
       "      <td>-39</td>\n",
       "    </tr>\n",
       "    <tr>\n",
       "      <th>1</th>\n",
       "      <td>1</td>\n",
       "      <td>2014</td>\n",
       "      <td>82</td>\n",
       "      <td>25</td>\n",
       "      <td>57</td>\n",
       "      <td>0.305</td>\n",
       "      <td>3946</td>\n",
       "      <td>7892</td>\n",
       "      <td>2996</td>\n",
       "      <td>6883</td>\n",
       "      <td>...</td>\n",
       "      <td>2505</td>\n",
       "      <td>3485</td>\n",
       "      <td>1726</td>\n",
       "      <td>1261</td>\n",
       "      <td>584</td>\n",
       "      <td>343</td>\n",
       "      <td>373</td>\n",
       "      <td>1743</td>\n",
       "      <td>1564</td>\n",
       "      <td>-366</td>\n",
       "    </tr>\n",
       "    <tr>\n",
       "      <th>2</th>\n",
       "      <td>2</td>\n",
       "      <td>2014</td>\n",
       "      <td>82</td>\n",
       "      <td>44</td>\n",
       "      <td>38</td>\n",
       "      <td>0.537</td>\n",
       "      <td>3976</td>\n",
       "      <td>8079</td>\n",
       "      <td>2931</td>\n",
       "      <td>6391</td>\n",
       "      <td>...</td>\n",
       "      <td>2407</td>\n",
       "      <td>3128</td>\n",
       "      <td>1714</td>\n",
       "      <td>1191</td>\n",
       "      <td>705</td>\n",
       "      <td>311</td>\n",
       "      <td>337</td>\n",
       "      <td>1777</td>\n",
       "      <td>1704</td>\n",
       "      <td>-82</td>\n",
       "    </tr>\n",
       "    <tr>\n",
       "      <th>3</th>\n",
       "      <td>3</td>\n",
       "      <td>2014</td>\n",
       "      <td>82</td>\n",
       "      <td>43</td>\n",
       "      <td>39</td>\n",
       "      <td>0.524</td>\n",
       "      <td>3981</td>\n",
       "      <td>7942</td>\n",
       "      <td>2976</td>\n",
       "      <td>6730</td>\n",
       "      <td>...</td>\n",
       "      <td>2724</td>\n",
       "      <td>3500</td>\n",
       "      <td>1778</td>\n",
       "      <td>1010</td>\n",
       "      <td>499</td>\n",
       "      <td>421</td>\n",
       "      <td>415</td>\n",
       "      <td>1493</td>\n",
       "      <td>1716</td>\n",
       "      <td>-18</td>\n",
       "    </tr>\n",
       "    <tr>\n",
       "      <th>4</th>\n",
       "      <td>4</td>\n",
       "      <td>2014</td>\n",
       "      <td>82</td>\n",
       "      <td>48</td>\n",
       "      <td>34</td>\n",
       "      <td>0.585</td>\n",
       "      <td>3986</td>\n",
       "      <td>7680</td>\n",
       "      <td>2843</td>\n",
       "      <td>6577</td>\n",
       "      <td>...</td>\n",
       "      <td>2683</td>\n",
       "      <td>3620</td>\n",
       "      <td>1860</td>\n",
       "      <td>1223</td>\n",
       "      <td>594</td>\n",
       "      <td>424</td>\n",
       "      <td>490</td>\n",
       "      <td>1565</td>\n",
       "      <td>1714</td>\n",
       "      <td>152</td>\n",
       "    </tr>\n",
       "  </tbody>\n",
       "</table>\n",
       "<p>5 rows × 28 columns</p>\n",
       "</div>"
      ],
      "text/plain": [
       "   Team  Year  GP   W   L   WIN%   MIN   PTS   FGM   FGA  ...  DREB   REB  \\\n",
       "0     0  2014  82  38  44  0.463  3966  8282  3061  6688  ...  2565  3278   \n",
       "1     1  2014  82  25  57  0.305  3946  7892  2996  6883  ...  2505  3485   \n",
       "2     2  2014  82  44  38  0.537  3976  8079  2931  6391  ...  2407  3128   \n",
       "3     3  2014  82  43  39  0.524  3981  7942  2976  6730  ...  2724  3500   \n",
       "4     4  2014  82  48  34  0.585  3986  7680  2843  6577  ...  2683  3620   \n",
       "\n",
       "    AST   TOV  STL  BLK  BLKA    PF   PFD  plus_minus  \n",
       "0  2041  1251  680  326   354  1577  1643         -39  \n",
       "1  1726  1261  584  343   373  1743  1564        -366  \n",
       "2  1714  1191  705  311   337  1777  1704         -82  \n",
       "3  1778  1010  499  421   415  1493  1716         -18  \n",
       "4  1860  1223  594  424   490  1565  1714         152  \n",
       "\n",
       "[5 rows x 28 columns]"
      ]
     },
     "execution_count": 2,
     "metadata": {},
     "output_type": "execute_result"
    }
   ],
   "source": [
    "df = pd.read_csv(os.path.join(\"../NBA_Data/nbaNewStatByID.csv\"))\n",
    "df = df.dropna()\n",
    "df.head()"
   ]
  },
  {
   "cell_type": "code",
   "execution_count": 3,
   "id": "surprising-trance",
   "metadata": {},
   "outputs": [
    {
     "name": "stdout",
     "output_type": "stream",
     "text": [
      "(150, 24) (150, 1)\n"
     ]
    }
   ],
   "source": [
    "X = df.drop([\"Team\",\"Year\",\"GP\",\"WIN%\"], axis=1)\n",
    "y = df[\"WIN%\"].values.reshape(-1, 1)\n",
    "print(X.shape, y.shape)"
   ]
  },
  {
   "cell_type": "code",
   "execution_count": 4,
   "id": "breeding-garlic",
   "metadata": {},
   "outputs": [],
   "source": [
    "# Use train_test_split to create training and testing data\n",
    "\n",
    "from sklearn.model_selection import train_test_split\n",
    "\n",
    "X_train, X_test, y_train, y_test = train_test_split(X, y, random_state=42)"
   ]
  },
  {
   "cell_type": "code",
   "execution_count": 5,
   "id": "cutting-lambda",
   "metadata": {},
   "outputs": [],
   "source": [
    "# Create the model using LinearRegression\n",
    "\n",
    "from sklearn.linear_model import LinearRegression\n",
    "model = LinearRegression()"
   ]
  },
  {
   "cell_type": "code",
   "execution_count": 6,
   "id": "elder-submission",
   "metadata": {},
   "outputs": [
    {
     "name": "stdout",
     "output_type": "stream",
     "text": [
      "Training Score: 0.9999969983044519\n",
      "Testing Score: 0.9999958698498208\n"
     ]
    }
   ],
   "source": [
    "# Fit the model to the training data and calculate the scores for the training and testing data\n",
    "\n",
    "model.fit(X_train, y_train)\n",
    "training_score = model.score(X_train, y_train)\n",
    "testing_score = model.score(X_test, y_test)\n",
    "\n",
    "print(f\"Training Score: {training_score}\")\n",
    "print(f\"Testing Score: {testing_score}\")"
   ]
  },
  {
   "cell_type": "code",
   "execution_count": 7,
   "id": "posted-blank",
   "metadata": {},
   "outputs": [
    {
     "data": {
      "text/plain": [
       "Text(0.5, 1.0, 'Residual Plot')"
      ]
     },
     "execution_count": 7,
     "metadata": {},
     "output_type": "execute_result"
    },
    {
     "data": {
      "image/png": "[encoded data removed]",
      "text/plain": [
       "<Figure size 432x288 with 1 Axes>"
      ]
     },
     "metadata": {
      "needs_background": "light"
     },
     "output_type": "display_data"
    }
   ],
   "source": [
    "# Plot the Residuals for the Training and Testing data\n",
    "fig = plt.figure()\n",
    "plt.scatter(model.predict(X_train), model.predict(X_train) - y_train, c=\"blue\", label=\"Training Data\")\n",
    "plt.scatter(model.predict(X_test), model.predict(X_test) - y_test, c=\"orange\", label=\"Testing Data\")\n",
    "plt.legend()\n",
    "plt.hlines(y=0, xmin=y.min(), xmax=y.max())\n",
    "plt.title(\"Residual Plot\")"
   ]
  },
  {
   "cell_type": "code",
   "execution_count": 8,
   "id": "fluid-knight",
   "metadata": {},
   "outputs": [],
   "source": [
    "# # Save figure\n",
    "# fig.savefig(\"../NBA_Model_Img/LinearRegression.png\",dpi=100)"
   ]
  },
  {
   "cell_type": "code",
   "execution_count": null,
   "id": "alternative-thunder",
   "metadata": {},
   "outputs": [],
   "source": []
  }
 ],
 "metadata": {
  "kernelspec": {
   "display_name": "Python 3",
   "language": "python",
   "name": "python3"
  },
  "language_info": {
   "codemirror_mode": {
    "name": "ipython",
    "version": 3
   },
   "file_extension": ".py",
   "mimetype": "text/x-python",
   "name": "python",
   "nbconvert_exporter": "python",
   "pygments_lexer": "ipython3",
   "version": "3.6.12"
  }
 },
 "nbformat": 4,
 "nbformat_minor": 5
}
